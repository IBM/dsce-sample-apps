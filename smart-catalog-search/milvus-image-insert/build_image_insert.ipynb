{
 "cells": [
  {
   "cell_type": "markdown",
   "metadata": {},
   "source": [
    "## Index\n",
    "\n",
    "* [Introduction](#intro)\n",
    "* [Preparation](#preparation)\n",
    "* [Reverse Image Search](#reverse-image-search)\n",
    "    * [Configuration](#configuration)\n",
    "    * [Embedding pipeline](#embedding-pipeline)\n",
    "    * [Steps](#steps)\n",
    "        * [1. Create Milvus collection](#step1)\n",
    "        * [2. Insert data](#step2)\n",
    "\n",
    "\n",
    "# Reverse Image Search powered by Towhee & Milvus <a class=\"anchor\" id=\"intro\"></a>\n",
    "\n",
    "Reverse image search takes an image as input and retrieves most similar images based on its content. The basic idea behind semantic image search is to represent each image as an embedding of features extracted by a pretrained deep learning model. Then image retrieval can be performed by storing & comparing image embeddings.\n",
    "\n",
    "This notebook illustrates how to build an reverse image search engine from scratch using [Towhee](https://towhee.io/) and [Milvus](https://milvus.io/). We will go through procedures with example data. With this tutorial, you will learn how to build and evaluate a reverse image search system.\n",
    "\n",
    "<img src=\"https://github.com/towhee-io/examples/raw/main/image/reverse_image_search/workflow.png\" width = \"60%\" height = \"60%\" align=center />"
   ]
  },
  {
   "cell_type": "markdown",
   "metadata": {},
   "source": [
    "## Preparation <a class=\"anchor\" id=\"preparation\"></a>\n",
    "\n",
    "To get ready for building the image search engine, we need to install some python packages, download example data, and start Milvus service in advance.\n",
    "\n",
    "**Install dependencies**\n",
    "\n",
    "First we need to install dependencies such as towhee, opencv-python and pillow. Please note you should install proper versions based on your environment.\n",
    "\n",
    "| package | version |\n",
    "| -- | -- |\n",
    "| towhee | 1.1.0 |\n",
    "| opencv-python | |\n",
    "| pillow | |"
   ]
  },
  {
   "cell_type": "code",
   "execution_count": 1,
   "metadata": {},
   "outputs": [],
   "source": [
    "! python -m pip install -q towhee opencv-python pillow"
   ]
  },
  {
   "cell_type": "markdown",
   "metadata": {},
   "source": [
    "**Prepare data**\n",
    "\n",
    "Here we use a subset of the [ImageNet](https://www.image-net.org/) dataset (100 classes). The example data is available on [Github](https://github.com/towhee-io/examples/releases/download/data/reverse_image_search.zip). You can follow command below to download it. The example data is organized as follows:\n",
    "\n",
    "- train: directory of candidate images, 10 images per class from ImageNet train data\n",
    "- test: directory of query images, 1 image per class from ImageNet test data\n",
    "- reverse_image_search.csv: a csv file containing *id, path, and label* for each candidate image"
   ]
  },
  {
   "cell_type": "code",
   "execution_count": 3,
   "metadata": {},
   "outputs": [
    {
     "name": "stdout",
     "output_type": "stream",
     "text": [
      "^C\n",
      "\u001b[31mERROR: Operation cancelled by user\u001b[0m\u001b[31m\n",
      "\u001b[0m"
     ]
    }
   ],
   "source": [
    "! python -m pip install -q pymilvus==2.3.1"
   ]
  },
  {
   "cell_type": "markdown",
   "metadata": {},
   "source": [
    "## Reverse Image Search <a class=\"anchor\" id=\"reverse-image-search\"></a>\n",
    "\n",
    "In this section, we will learn how to build the image search engine using Towhee. Towhee is a framework that provides ETL for unstructured data using SoTA machine learning models. It allows to create data processing pipelines. It also has built-in operators for different purposes, such as generating image embeddings, inserting data into Milvus collection, and querying across Milvus collection.\n",
    "\n",
    "\n",
    "### Configuration <a class=\"anchor\" id=\"configuration\"></a>\n",
    "\n",
    "For later use, we import packages & set parameters at the beginning. You are able to change parameters according to your needs and environment. Please note that the embedding dimension `DIM` should match the selected model name `MODEL`.\n",
    "\n",
    "By default, this tutorial selects a pretrained model 'resnet50' to extract image embeddings. It sets ['IVF_FLAT'](https://milvus.io/docs/v2.0.x/index.md#IVF_FLAT) as index and ['L2'](https://milvus.io/docs/v2.0.x/metric.md#Euclidean-distance-L2) as distance metric for Milvus configuration. `TOPK` determines how many search results returned, which defaults to 10."
   ]
  },
  {
   "cell_type": "code",
   "execution_count": null,
   "metadata": {},
   "outputs": [],
   "source": [
    "import csv\n",
    "from glob import glob\n",
    "from pathlib import Path\n",
    "from statistics import mean\n",
    "\n",
    "from towhee import pipe, ops, DataCollection\n",
    "from pymilvus import connections, FieldSchema, CollectionSchema, DataType, Collection, utility\n",
    "\n",
    "\n",
    "# Towhee parameters\n",
    "MODEL = 'resnet50'\n",
    "DEVICE = None # if None, use default device (cuda is enabled if available)\n",
    "\n",
    "# Milvus parameters\n",
    "HOST = '' # Add your milvus grpc host without port and protocol\n",
    "PORT = '' # \n",
    "SERVER_NAME = 'localhost'\n",
    "USER = ''\n",
    "PASSWORD = '' #More information on how to create IBM API key is available at https://www.ibm.com/docs/en/mas-cd/continuous-delivery?topic=cli-creating-your-cloud-api-key \n",
    "TOPK = 5\n",
    "DIM = 2048 # dimension of embedding extracted by MODEL\n",
    "COLLECTION_NAME = 'reverse_image_search'\n",
    "INDEX_TYPE = 'IVF_FLAT'\n",
    "METRIC_TYPE = 'L2'\n",
    " \n",
    "# path to csv (column_1 indicates image path) OR a pattern of image paths\n",
    "INSERT_SRC = 'reverse_image_search.csv'"
   ]
  },
  {
   "cell_type": "markdown",
   "metadata": {},
   "source": [
    "### Embedding pipeline <a class=\"anchor\" id=\"embedding-pipeline\"></a>\n",
    "\n",
    "As mentioned above, the similarity search actually happens to vectors. So we need to convert each image into an embedding. To pass image path into the image embedding operator, we use a function streamly reads image path given a pattern or a csv. Thus the embedding pipeline generates image embeddings given a pattern or csv of image path(s)."
   ]
  },
  {
   "cell_type": "code",
   "execution_count": 5,
   "metadata": {},
   "outputs": [],
   "source": [
    "# Load image path\n",
    "def load_image(x):\n",
    "    if x.endswith('csv'):\n",
    "        with open(x) as f:\n",
    "            reader = csv.reader(f)\n",
    "            next(reader)\n",
    "            for item in reader:\n",
    "                yield item[1]\n",
    "    else:\n",
    "        for item in glob(x):\n",
    "            yield item\n",
    "            \n",
    "# Embedding pipeline\n",
    "p_embed = (\n",
    "    pipe.input('src')\n",
    "        .flat_map('src', 'img_path', load_image)\n",
    "        .map('img_path', 'img', ops.image_decode())\n",
    "        .map('img', 'vec', ops.image_embedding.timm(model_name=MODEL, device=DEVICE))\n",
    ")"
   ]
  },
  {
   "cell_type": "markdown",
   "metadata": {},
   "source": [
    "### Steps <a class=\"anchor\" id=\"steps\"></a>\n",
    "\n",
    "With work above done, we are ready to build and try the image search engine. The core procedure includes 3 steps:\n",
    "\n",
    "1. create a Milvus collection\n",
    "2. insert data into collection\n",
    "\n",
    "\n",
    "#### 1. Create Milvus collection <a class=\"anchor\" id=\"step1\"></a>\n",
    "\n",
    "Before insert or search data, we need to have a collection. This step creates a new collection using configurations above. Please note that it will delete the collection first if it already exists."
   ]
  },
  {
   "cell_type": "code",
   "execution_count": 6,
   "metadata": {},
   "outputs": [
    {
     "name": "stdout",
     "output_type": "stream",
     "text": [
      "Error connecting to Milvus Database: <MilvusException: (code=2, message=Fail connecting to server on b0bb22b7-99e3-4127-afed-51eaaa232a8f.cise77rd04nf1e5p5s20.lakehouse.appdomain.cloud:32430, illegal connection params or server unavailable)>\n"
     ]
    }
   ],
   "source": [
    "# Connect to Milvus service and create a collecion \n",
    "try:\n",
    "    connections.connect(host=HOST, port=PORT, secure=True, server_name=SERVER_NAME, user=USER, password=PASSWORD)\n",
    "    print('Milvus Database connected successfully.')\n",
    "except Exception as e:\n",
    "    print(f'Error connecting to Milvus Database: {e}')"
   ]
  },
  {
   "cell_type": "code",
   "execution_count": 25,
   "metadata": {},
   "outputs": [],
   "source": [
    "# Create milvus collection (delete first if exists)\n",
    "def create_milvus_collection(collection_name, dim):\n",
    "    if utility.has_collection(collection_name):\n",
    "        utility.drop_collection(collection_name)\n",
    "    \n",
    "    fields = [\n",
    "        FieldSchema(name='path', dtype=DataType.VARCHAR, description='path to image', max_length=500, \n",
    "                    is_primary=True, auto_id=False),\n",
    "        FieldSchema(name='embedding', dtype=DataType.FLOAT_VECTOR, description='image embedding vectors', dim=dim)\n",
    "    ]\n",
    "    schema = CollectionSchema(fields=fields, description='reverse image search')\n",
    "    collection = Collection(name=collection_name, schema=schema)\n",
    "\n",
    "    index_params = {\n",
    "        'metric_type': METRIC_TYPE,\n",
    "        'index_type': INDEX_TYPE,\n",
    "        'params': {\"nlist\": 2048}\n",
    "    }\n",
    "    collection.create_index(field_name='embedding', index_params=index_params)\n",
    "    return collection"
   ]
  },
  {
   "cell_type": "markdown",
   "metadata": {},
   "source": [
    "Connect to Milvus with `HOST` & `PORT` and create collection with `COLLECTION_NAME` & `DIM`:"
   ]
  },
  {
   "cell_type": "code",
   "execution_count": 26,
   "metadata": {},
   "outputs": [
    {
     "name": "stdout",
     "output_type": "stream",
     "text": [
      "Error connecting to Milvus Database: <MilvusException: (code=2, message=Fail connecting to server on ca206930-4baa-4d42-adb8-85626df2a99d.cise77rd04nf1e5p5s20.lakehouse.appdomain.cloud:31624, illegal connection params or server unavailable)>\n"
     ]
    }
   ],
   "source": [
    "# Connect to Milvus service and create a collecion \n",
    "try:\n",
    "    connections.connect(host=HOST, port=PORT, secure=True, server_name=SERVER_NAME, user=USER, password=PASSWORD)\n",
    "    print('Milvus Database connected successfully.')\n",
    "\n",
    "    # Create collection\n",
    "    collection = create_milvus_collection(COLLECTION_NAME, DIM)\n",
    "    print(f'A new collection created: {COLLECTION_NAME}')\n",
    "\n",
    "except Exception as e:\n",
    "    print(f'Error connecting to Milvus Database: {e}')"
   ]
  },
  {
   "cell_type": "markdown",
   "metadata": {},
   "source": [
    "#### 2. Insert data <a class=\"anchor\" id=\"step2\"></a>\n",
    "\n",
    "This step uses an **insert pipeline** to insert image embeddings into Milvus collection. The insert pipeline consists of the embedding pipeline and the Milvus insert operator."
   ]
  },
  {
   "cell_type": "code",
   "execution_count": 27,
   "metadata": {},
   "outputs": [],
   "source": [
    "# Insert pipeline\n",
    "\n",
    "p_insert = (\n",
    "    p_embed.map(('img_path', 'vec'), 'mr', ops.ann_insert.milvus_client(\n",
    "                        host=HOST,\n",
    "                        port=PORT,\n",
    "                        user=USER, \n",
    "                        password=PASSWORD,\n",
    "                        collection_name=COLLECTION_NAME\n",
    "                        ))\n",
    "              .output('mr')\n",
    "    )\n"
   ]
  },
  {
   "cell_type": "markdown",
   "metadata": {},
   "source": [
    "Insert all candidate images for  `INSERT_SRC`:"
   ]
  },
  {
   "cell_type": "code",
   "execution_count": 28,
   "metadata": {},
   "outputs": [
    {
     "data": {
      "text/plain": [
       "<towhee.runtime.data_queue.DataQueue at 0x33462d1f0>"
      ]
     },
     "execution_count": 28,
     "metadata": {},
     "output_type": "execute_result"
    }
   ],
   "source": [
    "# Insert data\n",
    "p_insert(INSERT_SRC)\n"
   ]
  }
 ],
 "metadata": {
  "kernelspec": {
   "display_name": ".venv",
   "language": "python",
   "name": "python3"
  },
  "language_info": {
   "codemirror_mode": {
    "name": "ipython",
    "version": 3
   },
   "file_extension": ".py",
   "mimetype": "text/x-python",
   "name": "python",
   "nbconvert_exporter": "python",
   "pygments_lexer": "ipython3",
   "version": "3.12.5"
  }
 },
 "nbformat": 4,
 "nbformat_minor": 4
}
